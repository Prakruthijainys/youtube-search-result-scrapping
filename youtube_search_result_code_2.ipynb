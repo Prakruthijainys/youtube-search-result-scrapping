{
 "cells": [
  {
   "cell_type": "code",
   "execution_count": 13,
   "metadata": {},
   "outputs": [],
   "source": [
    "import requests\n",
    "import pandas as pd\n",
    "from selenium import webdriver\n",
    "from selenium.webdriver.common.keys import Keys\n",
    "from selenium.webdriver.common.by import By\n",
    "import time\n",
    "from time import sleep\n",
    "import json\n"
   ]
  },
  {
   "cell_type": "code",
   "execution_count": 14,
   "metadata": {},
   "outputs": [
    {
     "name": "stderr",
     "output_type": "stream",
     "text": [
      "<ipython-input-14-0969f9b7afa9>:2: DeprecationWarning: executable_path has been deprecated, please pass in a Service object\n",
      "  driver = webdriver.Chrome(executable_path=driver_path)\n"
     ]
    }
   ],
   "source": [
    "driver_path = r'C:\\Users\\User\\OneDrive\\Documents\\chromedriver_win32 (1)\\chromedriver'\n",
    "driver = webdriver.Chrome(executable_path=driver_path)\n",
    "driver.maximize_window()"
   ]
  },
  {
   "cell_type": "code",
   "execution_count": 15,
   "metadata": {},
   "outputs": [],
   "source": [
    "def crawl_youtube_links(query):\n",
    "\n",
    "    # Open Google search\n",
    "    driver.get('https://www.google.com')\n",
    "\n",
    "\n",
    "    # Find the search input element and enter the query\n",
    "    search_input = driver.find_element(By.NAME,'q')\n",
    "\n",
    "    search_input.send_keys('youtube.com openinapp.co')\n",
    "    time.sleep(4)\n",
    "    search_input.send_keys(Keys.RETURN)\n",
    "    time.sleep(15)\n",
    "    driver.find_element(By.XPATH,'//*[@id=\"hdtb-msb\"]/div[1]/div/div[2]/a').click()\n",
    "    time.sleep(4)\n",
    "\n",
    "    # Collect the YouTube links\n",
    "    links = []\n",
    "    channel = []\n",
    "    count = 10000\n",
    "\n",
    "\n",
    "    while len(links) <=10000: \n",
    "        try:\n",
    "            urls = driver.find_elements(By.XPATH,\"//div[@class='DhN8Cf']//a\")\n",
    "            for url in urls:\n",
    "                href = url.get_attribute(\"href\")\n",
    "                if href.startswith(\"https://www.youtube.com/\"):\n",
    "                        links.append(href)  \n",
    "        except:\n",
    "            continue\n",
    "\n",
    "        try:\n",
    "            next_page = driver.find_element(By.ID,'pnnext')\n",
    "            next_page.click()\n",
    "        except:\n",
    "            print(\"No more pages left\")\n",
    "            break\n",
    "\n",
    "\n",
    "    for j in links:\n",
    "        driver.get(j)\n",
    "        time.sleep(5)\n",
    "        try:\n",
    "            cha = driver.find_element(By.XPATH,'//*[@id=\"text\"]/a')\n",
    "            channel.append(cha.get_attribute(\"href\"))\n",
    "        except:\n",
    "            channel.append(\"NA\")\n",
    "\n",
    "\n",
    "    return channel"
   ]
  },
  {
   "cell_type": "code",
   "execution_count": 16,
   "metadata": {},
   "outputs": [],
   "source": [
    "def save_results(channel, output_file):\n",
    "    with open(output_file, 'w') as file:\n",
    "        json.dump(channel, file, indent=4)\n"
   ]
  },
  {
   "cell_type": "code",
   "execution_count": 17,
   "metadata": {},
   "outputs": [
    {
     "name": "stdout",
     "output_type": "stream",
     "text": [
      "No more pages left\n"
     ]
    }
   ],
   "source": [
    "if __name__ == \"__main__\":\n",
    "    query = \"site:youtube.com openinapp.co\"\n",
    "    output_file = \"output.json\"\n",
    "\n",
    "    channel = crawl_youtube_links(query)\n",
    "    save_results(channel, output_file)\n",
    "\n",
    "    driver.quit()  # Close the browser window and quit the WebDriver\n"
   ]
  },
  {
   "cell_type": "code",
   "execution_count": null,
   "metadata": {},
   "outputs": [],
   "source": []
  }
 ],
 "metadata": {
  "kernelspec": {
   "display_name": "Python 3",
   "language": "python",
   "name": "python3"
  },
  "language_info": {
   "codemirror_mode": {
    "name": "ipython",
    "version": 3
   },
   "file_extension": ".py",
   "mimetype": "text/x-python",
   "name": "python",
   "nbconvert_exporter": "python",
   "pygments_lexer": "ipython3",
   "version": "3.8.5"
  }
 },
 "nbformat": 4,
 "nbformat_minor": 4
}
