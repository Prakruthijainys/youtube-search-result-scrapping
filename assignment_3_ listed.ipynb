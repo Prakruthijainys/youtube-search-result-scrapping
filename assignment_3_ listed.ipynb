{
 "cells": [
  {
   "cell_type": "code",
   "execution_count": 4,
   "metadata": {
    "scrolled": true
   },
   "outputs": [
    {
     "name": "stderr",
     "output_type": "stream",
     "text": [
      "<ipython-input-4-6134e6d4aeaa>:10: DeprecationWarning: executable_path has been deprecated, please pass in a Service object\n",
      "  driver = webdriver.Chrome(executable_path=driver_path)\n"
     ]
    },
    {
     "name": "stdout",
     "output_type": "stream",
     "text": [
      "No more pages left\n"
     ]
    },
    {
     "ename": "NameError",
     "evalue": "name 'json' is not defined",
     "output_type": "error",
     "traceback": [
      "\u001b[1;31m---------------------------------------------------------------------------\u001b[0m",
      "\u001b[1;31mNameError\u001b[0m                                 Traceback (most recent call last)",
      "\u001b[1;32m<ipython-input-4-6134e6d4aeaa>\u001b[0m in \u001b[0;36m<module>\u001b[1;34m\u001b[0m\n\u001b[0;32m     64\u001b[0m \u001b[0mdata\u001b[0m \u001b[1;33m=\u001b[0m \u001b[1;33m{\u001b[0m\u001b[1;34m'links'\u001b[0m\u001b[1;33m:\u001b[0m \u001b[0mlinks\u001b[0m\u001b[1;33m,\u001b[0m \u001b[1;34m'channel links'\u001b[0m \u001b[1;33m:\u001b[0m \u001b[0mchannel\u001b[0m\u001b[1;33m}\u001b[0m\u001b[1;33m\u001b[0m\u001b[1;33m\u001b[0m\u001b[0m\n\u001b[0;32m     65\u001b[0m \u001b[1;32mwith\u001b[0m \u001b[0mopen\u001b[0m\u001b[1;33m(\u001b[0m\u001b[1;34m'youtube_links.json'\u001b[0m\u001b[1;33m,\u001b[0m \u001b[1;34m'w'\u001b[0m\u001b[1;33m)\u001b[0m \u001b[1;32mas\u001b[0m \u001b[0mf\u001b[0m\u001b[1;33m:\u001b[0m\u001b[1;33m\u001b[0m\u001b[1;33m\u001b[0m\u001b[0m\n\u001b[1;32m---> 66\u001b[1;33m     \u001b[0mjson\u001b[0m\u001b[1;33m.\u001b[0m\u001b[0mdump\u001b[0m\u001b[1;33m(\u001b[0m\u001b[0mdata\u001b[0m\u001b[1;33m,\u001b[0m \u001b[0mf\u001b[0m\u001b[1;33m)\u001b[0m\u001b[1;33m\u001b[0m\u001b[1;33m\u001b[0m\u001b[0m\n\u001b[0m\u001b[0;32m     67\u001b[0m \u001b[1;33m\u001b[0m\u001b[0m\n\u001b[0;32m     68\u001b[0m \u001b[1;33m\u001b[0m\u001b[0m\n",
      "\u001b[1;31mNameError\u001b[0m: name 'json' is not defined"
     ]
    }
   ],
   "source": [
    "import requests\n",
    "import pandas as pd\n",
    "from selenium import webdriver\n",
    "from selenium.webdriver.common.keys import Keys\n",
    "from selenium.webdriver.common.by import By\n",
    "import time\n",
    "from time import sleep\n",
    "import json\n",
    "\n",
    "driver_path = r'C:\\Users\\User\\OneDrive\\Documents\\chromedriver_win32 (1)\\chromedriver'\n",
    "driver = webdriver.Chrome(executable_path=driver_path)\n",
    "driver.maximize_window()\n",
    "# Open Google search\n",
    "driver.get('https://www.google.com')\n",
    "\n",
    "\n",
    "# Find the search input element and enter the query\n",
    "search_input = driver.find_element(By.NAME,'q')\n",
    "\n",
    "search_input.send_keys('youtube.com openinapp.co')\n",
    "time.sleep(4)\n",
    "search_input.send_keys(Keys.RETURN)\n",
    "time.sleep(15)\n",
    "driver.find_element(By.XPATH,'//*[@id=\"hdtb-msb\"]/div[1]/div/div[2]/a').click()\n",
    "time.sleep(4)\n",
    "\n",
    "# Collect the YouTube links\n",
    "links = []\n",
    "channel = []\n",
    "count = 10000\n",
    "\n",
    "\n",
    "while len(links) <=10000: \n",
    "    try:\n",
    "        urls = driver.find_elements(By.XPATH,\"//div[@class='DhN8Cf']//a\")\n",
    "        for url in urls:\n",
    "            href = url.get_attribute(\"href\")\n",
    "            if href.startswith(\"https://www.youtube.com/\"):\n",
    "                    links.append(href)  \n",
    "    except:\n",
    "        continue\n",
    "        \n",
    "    try:\n",
    "        next_page = driver.find_element(By.ID,'pnnext')\n",
    "        next_page.click()\n",
    "    except:\n",
    "        print(\"No more pages left\")\n",
    "        break\n",
    "\n",
    "        \n",
    "for j in links:\n",
    "    driver.get(j)\n",
    "    time.sleep(5)\n",
    "    try:\n",
    "        cha = driver.find_element(By.XPATH,'//*[@id=\"text\"]/a')\n",
    "        channel.append(cha.get_attribute(\"href\"))\n",
    "    except:\n",
    "        channel.append(\"NA\")\n",
    "        \n",
    "# Close the driver\n",
    "\n",
    "driver.quit()\n",
    "\n",
    "# Save the links in JSON format\n",
    "data = {'links': links, 'channel links' : channel}\n",
    "with open('youtube_links.json', 'w') as f:\n",
    "    json.dump(data, f)\n",
    "        \n",
    "#csv format\n",
    "youtube_df =  pd.DataFrame(list(zip(links,channel)))\n",
    "youtube_df.columns =['LINKS','CHANNEL LINKS']\n",
    "youtube_df.to_csv(r\"C:\\Users\\User\\OneDrive\\Desktop\\New folder\\youtube_csv.csv\")\n",
    "\n",
    "\n"
   ]
  },
  {
   "cell_type": "code",
   "execution_count": null,
   "metadata": {},
   "outputs": [],
   "source": []
  }
 ],
 "metadata": {
  "kernelspec": {
   "display_name": "Python 3",
   "language": "python",
   "name": "python3"
  }
 },
 "nbformat": 4,
 "nbformat_minor": 4
}
